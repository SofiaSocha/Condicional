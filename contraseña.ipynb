{
 "cells": [
  {
   "cell_type": "code",
   "execution_count": 2,
   "metadata": {},
   "outputs": [
    {
     "name": "stdout",
     "output_type": "stream",
     "text": [
      "e\n",
      "el\n",
      "elb\n",
      "elbn\n",
      "elbnZ\n",
      "elbnZj\n",
      "elbnZj1\n",
      "elbnZj1K\n",
      "elbnZj1KQ\n",
      "elbnZj1KQQ\n"
     ]
    }
   ],
   "source": [
    "import random\n",
    "chars = '!''#$%&()*+,-./0123456789?@ABCDEFGHIJKLMNOPQRSTUVWXYZabcdefghijklmnopqrstuvwxyz'\n",
    "password = ''\n",
    "lengthPW = int(input('Que longitud quieres para tu pw'))\n",
    "for _ in range(lengthPW):\n",
    "    password += random.choice(chars)\n",
    "    print(password)"
   ]
  }
 ],
 "metadata": {
  "kernelspec": {
   "display_name": "Python 3",
   "language": "python",
   "name": "python3"
  },
  "language_info": {
   "codemirror_mode": {
    "name": "ipython",
    "version": 3
   },
   "file_extension": ".py",
   "mimetype": "text/x-python",
   "name": "python",
   "nbconvert_exporter": "python",
   "pygments_lexer": "ipython3",
   "version": "3.12.2"
  }
 },
 "nbformat": 4,
 "nbformat_minor": 2
}
